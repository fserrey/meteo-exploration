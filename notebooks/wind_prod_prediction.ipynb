{
 "cells": [
  {
   "cell_type": "markdown",
   "metadata": {},
   "source": [
    "## Sistema de predicción eólica sencillo"
   ]
  },
  {
   "cell_type": "markdown",
   "metadata": {},
   "source": [
    "En este notebook, procedo a extraer, transformar y cargar los datos en un sistema de predicción que desarrollaremos paso a paso.\n",
    "En primer lugar, importamos las librerías necesarias para trabajar."
   ]
  },
  {
   "cell_type": "code",
   "execution_count": null,
   "metadata": {},
   "outputs": [],
   "source": [
    "import numpy as np\n",
    "import pandas as pd\n",
    "import math\n",
    "import warnings\n",
    "warnings.filterwarnings('ignore')\n",
    "import matplotlib.pyplot as plt\n",
    "import seaborn as sns; sns.set()"
   ]
  },
  {
   "cell_type": "markdown",
   "metadata": {},
   "source": [
    "Una vez cargamos los datos, partimos el conjunto en dos dataframes distintos y renombramos ciertas variables para poder trabajar más cómodamente. También transformamos los datos 'observaciones' a datetime."
   ]
  },
  {
   "cell_type": "code",
   "execution_count": null,
   "metadata": {},
   "outputs": [],
   "source": [
    "data = pd.read_fwf('Meteologica_vacante_ProgPredR_ProblemaDatos_20190910.txt', parse_dates=['observaciones'])\n",
    "split = data.loc[data['observaciones'] == 'predicciones'].index.values.astype(int)[0]\n",
    "df_observation = data[:split]\n",
    "df_prediction = data[split+1:]"
   ]
  },
  {
   "cell_type": "code",
   "execution_count": null,
   "metadata": {},
   "outputs": [],
   "source": [
    "df_observation[['production','wind_mod']] = df_observation['Unnamed: 1'].str.split(\" \",expand=True)\n",
    "df_observation = df_observation[[x for x in df_observation.columns if x != 'Unnamed: 1']]\n",
    "df_predict = df_prediction.rename(columns={'Unnamed: 1': 'wind_mod'})"
   ]
  },
  {
   "cell_type": "code",
   "execution_count": null,
   "metadata": {},
   "outputs": [],
   "source": [
    "df_observation['production'] = pd.to_numeric(df_observation['production'])\n",
    "df_observation['wind_mod'] = pd.to_numeric(df_observation['wind_mod'])\n",
    "df_predict['wind_mod'] = pd.to_numeric(df_predict['wind_mod'])"
   ]
  },
  {
   "cell_type": "code",
   "execution_count": null,
   "metadata": {},
   "outputs": [],
   "source": [
    "df_observation['observaciones'] = pd.to_datetime(df_observation['observaciones'], errors='coerce', format='%Y-%m-%d %H:%M')\n",
    "df_predict['observaciones'] = pd.to_datetime(df_predict['observaciones'], errors='coerce', format='%Y-%m-%d %H:%M')"
   ]
  },
  {
   "cell_type": "code",
   "execution_count": null,
   "metadata": {},
   "outputs": [],
   "source": [
    "df_observation['wind_mod'] = df_observation.wind_mod.astype(int)\n",
    "df_observation['production'] = df_observation.production.astype(int)\n",
    "df_predict['wind_mod'] = df_predict.wind_mod.astype(int)"
   ]
  },
  {
   "cell_type": "code",
   "execution_count": null,
   "metadata": {},
   "outputs": [],
   "source": [
    "ax = sns.regplot(x=\"production\", y=\"wind_mod\", data=df_observation)"
   ]
  },
  {
   "cell_type": "markdown",
   "metadata": {},
   "source": [
    "En la siguiente celda, definimos los errores que emplearemos másadelante."
   ]
  },
  {
   "cell_type": "code",
   "execution_count": null,
   "metadata": {},
   "outputs": [],
   "source": [
    "\n",
    "def _error(actual: np.ndarray, predicted: np.ndarray):\n",
    "    \"\"\" Simple error \"\"\"\n",
    "    return actual - predicted\n",
    "\n",
    "def mse(actual: np.ndarray, predicted: np.ndarray):\n",
    "    \"\"\" Mean Squared Error \"\"\"\n",
    "    return np.mean(np.square(_error(actual, predicted)))\n",
    "\n",
    "\n",
    "def rmse(actual: np.ndarray, predicted: np.ndarray):\n",
    "    \"\"\" Root Mean Squared Error \"\"\"\n",
    "    return np.sqrt(mse(actual, predicted))\n",
    "\n",
    "def mae(actual: np.ndarray, predicted: np.ndarray):\n",
    "    \"\"\" Mean Absolute Error \"\"\"\n",
    "    return np.mean(np.abs(_error(actual, predicted)))"
   ]
  },
  {
   "cell_type": "markdown",
   "metadata": {},
   "source": [
    "Definimos las variables:\n",
    "\n",
    "- L este parámetro corresponderá a la potencia instalada del parque, cómo no disponemos del dato de potencia instalada, utilizaremos el valor máximo de los datos de producción.\n",
    "- k y x0 para estos dos parámetros dividiremos el espacio de búsqueda de la siguiente forma:\n",
    "    - x0 estará comprendido entre 0 y el valor máximo de modulo de viento presente en los datos y dividiremos este intervalo en 20 trozos\n",
    "    - k utilizaremos el intervalo [ 12 , 2 3 ] y probaremos cada valor separado 0,05"
   ]
  },
  {
   "cell_type": "code",
   "execution_count": null,
   "metadata": {},
   "outputs": [],
   "source": [
    "wind_mod = list(map(int, list(df_observation['wind_mod'])))\n",
    "production = list(map(int, list(df_observation['production'])))\n",
    "wind_mod_pred = list(map(int, list(df_predict['wind_mod'])))\n",
    "\n",
    "L = float(max(wind_mod))\n",
    "k = (np.arange(0.5,1.5,0.05)).tolist()\n",
    "x0 = (np.linspace(start=0, stop=L, num=20)).tolist()"
   ]
  },
  {
   "cell_type": "markdown",
   "metadata": {},
   "source": [
    "Definiomos la función train para recorrer todos los elementos de los arrays definidos y obtener los valores de los MAE, MSE y RMSE"
   ]
  },
  {
   "cell_type": "code",
   "execution_count": null,
   "metadata": {},
   "outputs": [],
   "source": [
    "def to_train(wind_mod, L, k, x0):   \n",
    "    result = []\n",
    "    parameters = []\n",
    "    mse_err = []\n",
    "    mae_err = []\n",
    "    rmse_err = []\n",
    "    for x in wind_mod:\n",
    "        for i in k:\n",
    "            for s in x0:\n",
    "\n",
    "                try:\n",
    "                    func = L/(1-math.exp(-(i)*((x)-(s))))\n",
    "                    params = [i, s]\n",
    "\n",
    "                    if func > 0: # He puesto esta condición porque previamente me salían valores negativos\n",
    "                        result.append(func)\n",
    "                        parameters.append(params)\n",
    "\n",
    "                        # Defino dos arrays para cálculo de errores\n",
    "                        actual_array = np.asarray(func, dtype=np.float32)\n",
    "                        predicted_array = np.asarray(wind_mod_pred, dtype=np.float32)\n",
    "\n",
    "                        mse_err.append(mse(actual_array, predicted_array))\n",
    "                        mae_err.append(mae(actual_array, predicted_array))\n",
    "                        rmse_err.append(rmse(actual_array, predicted_array))\n",
    "\n",
    "                except ZeroDivisionError:\n",
    "                    continue\n",
    "    return parameters, mse_err, mae_err, rmse_err"
   ]
  },
  {
   "cell_type": "code",
   "execution_count": null,
   "metadata": {},
   "outputs": [],
   "source": [
    "parameters, mse_err, mae_err, rmse_err = to_train(wind_mod, L, k, x0)"
   ]
  },
  {
   "cell_type": "code",
   "execution_count": null,
   "metadata": {},
   "outputs": [],
   "source": [
    "print('Valor de RMSE mínimo: ',np.amin(rmse_err))\n",
    "print('Valor de MSE mínimo: ',np.amin(mse_err))\n",
    "print('Valor de MAE mínimo: ',np.amin(mae_err))\n",
    "\n",
    "print('Parámetros optimizados para el RMSE: ',parameters[(int(np.argmin(rmse_err)))])"
   ]
  },
  {
   "cell_type": "markdown",
   "metadata": {},
   "source": [
    "En esta otra función, empleamos los valores optimizados para realizar nuestra predicción."
   ]
  },
  {
   "cell_type": "code",
   "execution_count": null,
   "metadata": {},
   "outputs": [],
   "source": [
    "params = parameters\n",
    "def to_fit(wind_mod_pred, params, mse_err, mae_err, rmse_err):    \n",
    "    rmse_best_k = parameters[(int(np.argmin(rmse_err)))][0]\n",
    "    rmse_best_x0 = parameters[(int(np.argmin(rmse_err)))][1]\n",
    "\n",
    "    mse_best_k = parameters[(int(np.argmin(mse_err)))][0]\n",
    "    mse_best_x0 = parameters[(int(np.argmin(mse_err)))][1]\n",
    "\n",
    "    mae_best_k = parameters[(int(np.argmin(mae_err)))][0]\n",
    "    mae_best_x0 = parameters[(int(np.argmin(mae_err)))][1]\n",
    "\n",
    "    rmse_output = (int(np.amin(rmse_err)))/100\n",
    "    mse_output = (int(np.amin(mse_err)))/100\n",
    "    mae_output = (int(np.amin(mae_err)))/100\n",
    "    \n",
    "    wind_mod_pred_rmse = []\n",
    "    wind_mod_pred_mse = []\n",
    "    wind_mod_pred_mae = []\n",
    "\n",
    "\n",
    "    for x in wind_mod_pred:\n",
    "        funcion_params_rmse = L/(1-math.exp(-(rmse_best_k)*((x)-rmse_best_x0)))\n",
    "        funcion_params_mse = L/(1-math.exp(-(mse_best_k)*((x)-mse_best_x0)))\n",
    "        funcion_params_mae = L/(1-math.exp(-(mae_best_k)*((x)-mae_best_x0)))\n",
    "\n",
    "        wind_mod_pred_rmse.append(funcion_params_rmse)\n",
    "        wind_mod_pred_mse.append(funcion_params_mse)\n",
    "        wind_mod_pred_mae.append(funcion_params_mae)    \n",
    "\n",
    "    print(L , rmse_best_k, rmse_best_x0)\n",
    "    print(mae_output, rmse_output)\n",
    "    return wind_mod_pred_rmse"
   ]
  },
  {
   "cell_type": "code",
   "execution_count": null,
   "metadata": {},
   "outputs": [],
   "source": [
    "wind_module = to_fit(wind_mod_pred, params, mse_err, mae_err, rmse_err)"
   ]
  },
  {
   "cell_type": "code",
   "execution_count": null,
   "metadata": {},
   "outputs": [],
   "source": [
    "df_predict[\"production\"] = [ '%.2f' % elem for elem in wind_module ]"
   ]
  },
  {
   "cell_type": "markdown",
   "metadata": {},
   "source": [
    "El output final tras el proceso de cálculo es el siguiente"
   ]
  },
  {
   "cell_type": "code",
   "execution_count": null,
   "metadata": {},
   "outputs": [],
   "source": [
    "to_fit(wind_mod_pred, params, mse_err, mae_err, rmse_err)\n",
    "print(df_predict[[\"observaciones\",\"production\"]].to_string(index=False))"
   ]
  },
  {
   "cell_type": "markdown",
   "metadata": {},
   "source": [
    "Al representar los valores predichos, nos encontramos con que, para un intervalo de confianza del 90% no son óptimos. Para mejorar el modelo podría emplear librerías con funciones de regresión optimizadas que proporcionen mejor resultado."
   ]
  },
  {
   "cell_type": "code",
   "execution_count": null,
   "metadata": {},
   "outputs": [],
   "source": [
    "df_predict['production'] = pd.to_numeric(df_predict['production'])\n",
    "df_predict['wind_mod'] = pd.to_numeric(df_predict['wind_mod'])\n",
    "\n",
    "ay = sns.lmplot(x=\"wind_mod\", y=\"production\", data=df_predict, ci=90)"
   ]
  }
 ],
 "metadata": {
  "kernelspec": {
   "display_name": "Python 3",
   "language": "python",
   "name": "python3"
  },
  "language_info": {
   "codemirror_mode": {
    "name": "ipython",
    "version": 3
   },
   "file_extension": ".py",
   "mimetype": "text/x-python",
   "name": "python",
   "nbconvert_exporter": "python",
   "pygments_lexer": "ipython3",
   "version": "3.7.3"
  }
 },
 "nbformat": 4,
 "nbformat_minor": 2
}
