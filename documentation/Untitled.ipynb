{
 "cells": [
  {
   "cell_type": "code",
   "execution_count": 1,
   "metadata": {},
   "outputs": [],
   "source": [
    "import numpy as np\n",
    "import pandas as pd\n",
    "import math\n",
    "import warnings\n",
    "warnings.filterwarnings('ignore')\n",
    "import matplotlib.pyplot as plt\n",
    "import seaborn as sns; sns.set()\n",
    "\n",
    "path = 'Meteologica_vacante_ProgPredR_ProblemaDatos_20190910.txt'\n",
    "\n",
    "def data_loading(path):\n",
    "    data = pd.read_fwf('Meteologica_vacante_ProgPredR_ProblemaDatos_20190910.txt', parse_dates=['observaciones'])\n",
    "    split = data.loc[data['observaciones'] == 'predicciones'].index.values.astype(int)[0]\n",
    "    df_observation = data[:split]\n",
    "    df_prediction = data[split+1:]\n",
    "\n",
    "    df_observation[['production','wind_mod']] = df_observation['Unnamed: 1'].str.split(\" \",expand=True)\n",
    "    df_observation = df_observation[[x for x in df_observation.columns if x != 'Unnamed: 1']]\n",
    "    df_predict = df_prediction.rename(columns={'Unnamed: 1': 'wind_mod'})\n",
    "\n",
    "    df_observation['observaciones'] = pd.to_datetime(df_observation['observaciones'], errors='coerce', format='%Y-%m-%d %H:%M')\n",
    "    df_predict['observaciones'] = pd.to_datetime(df_predict['observaciones'], errors='coerce', format='%Y-%m-%d %H:%M')\n",
    "\n",
    "    df_observation['wind_mod'] = df_observation.wind_mod.astype(int)\n",
    "    df_observation['production'] = df_observation.production.astype(int)\n",
    "    df_predict['wind_mod'] = df_predict.wind_mod.astype(int)\n",
    "\n",
    "    return df_observation, df_predict\n",
    "\n",
    "df_observation, df_predict = data_loading(path)"
   ]
  },
  {
   "cell_type": "code",
   "execution_count": null,
   "metadata": {},
   "outputs": [],
   "source": []
  }
 ],
 "metadata": {
  "kernelspec": {
   "display_name": "Python 3",
   "language": "python",
   "name": "python3"
  },
  "language_info": {
   "codemirror_mode": {
    "name": "ipython",
    "version": 3
   },
   "file_extension": ".py",
   "mimetype": "text/x-python",
   "name": "python",
   "nbconvert_exporter": "python",
   "pygments_lexer": "ipython3",
   "version": "3.7.3"
  }
 },
 "nbformat": 4,
 "nbformat_minor": 2
}
