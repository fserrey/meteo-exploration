{
 "cells": [
  {
   "cell_type": "code",
   "execution_count": 1,
   "metadata": {},
   "outputs": [],
   "source": [
    "import numpy as np\n",
    "import pandas as pd\n",
    "import math\n",
    "\n",
    "########\n",
    "# PINTAR DATOS\n",
    "########"
   ]
  },
  {
   "cell_type": "code",
   "execution_count": 2,
   "metadata": {},
   "outputs": [],
   "source": [
    "# Importo los datos de la muestra que me facilitan para la prueba\n",
    "data = pd.read_fwf('Meteologica_vacante_ProgPredR_ProblemaDatos_20190910.txt', parse_dates=['observaciones'])"
   ]
  },
  {
   "cell_type": "code",
   "execution_count": 3,
   "metadata": {},
   "outputs": [],
   "source": [
    "# Como una de las filas tiene la string 'predicciones' y Nan, hago split para después sacar arrays\n",
    "split = data.loc[data['observaciones'] == 'predicciones'].index.values.astype(int)[0]\n",
    "df_observation = data[:split]\n",
    "df_prediction = data[split+1:]"
   ]
  },
  {
   "cell_type": "code",
   "execution_count": 4,
   "metadata": {},
   "outputs": [
    {
     "name": "stderr",
     "output_type": "stream",
     "text": [
      "/home/slimbook/miniconda3/envs/ironhack_env/lib/python3.7/site-packages/pandas/core/frame.py:3391: SettingWithCopyWarning: \n",
      "A value is trying to be set on a copy of a slice from a DataFrame.\n",
      "Try using .loc[row_indexer,col_indexer] = value instead\n",
      "\n",
      "See the caveats in the documentation: http://pandas.pydata.org/pandas-docs/stable/indexing.html#indexing-view-versus-copy\n",
      "  self[k1] = value[k2]\n"
     ]
    }
   ],
   "source": [
    "# Renombro las columnas para luego usar los nombres que quiero\n",
    "df_observation[['production','wind_mod']] = df_observation['Unnamed: 1'].str.split(\" \",expand=True)\n",
    "df_observation = df_observation[[x for x in df_observation.columns if x != 'Unnamed: 1']]\n",
    "df_predict = df_prediction.rename(columns={'Unnamed: 1': 'wind_mod'})"
   ]
  },
  {
   "cell_type": "code",
   "execution_count": 40,
   "metadata": {},
   "outputs": [],
   "source": [
    "# Defino los errores para poder usarlos más adelante\n",
    "\n",
    "def _error(actual: np.ndarray, predicted: np.ndarray):\n",
    "    \"\"\" Simple error \"\"\"\n",
    "    return actual - predicted\n",
    "\n",
    "def mse(actual: np.ndarray, predicted: np.ndarray):\n",
    "    \"\"\" Mean Squared Error \"\"\"\n",
    "    return np.mean(np.square(_error(actual, predicted)))\n",
    "\n",
    "\n",
    "def rmse(actual: np.ndarray, predicted: np.ndarray):\n",
    "    \"\"\" Root Mean Squared Error \"\"\"\n",
    "    return np.sqrt(mse(actual, predicted))\n",
    "\n",
    "def mae(actual: np.ndarray, predicted: np.ndarray):\n",
    "    \"\"\" Mean Absolute Error \"\"\"\n",
    "    return np.mean(np.abs(_error(actual, predicted)))"
   ]
  },
  {
   "cell_type": "code",
   "execution_count": 6,
   "metadata": {},
   "outputs": [],
   "source": [
    "# Me indican que las variables son:\n",
    "### Valor k = range(1/2 - 3/2)\n",
    "### Valor L = max(wind_mod)\n",
    "### Valor x0 = range(0 - max(wind_mod))"
   ]
  },
  {
   "cell_type": "code",
   "execution_count": 7,
   "metadata": {},
   "outputs": [],
   "source": [
    "# Defino las listas que usaré después y las variables\n",
    "wind_mod = list(map(int, list(df_observation['wind_mod'])))\n",
    "production = list(map(int, list(df_observation['production'])))\n",
    "wind_mod_pred = list(map(int, list(df_predict['wind_mod'])))\n",
    "\n",
    "L = float(max(wind_mod))\n",
    "k = (np.arange(0.5,1.5,0.05)).tolist()\n",
    "x0 = (np.linspace(start=0, stop=L, num=20)).tolist()"
   ]
  },
  {
   "cell_type": "code",
   "execution_count": 8,
   "metadata": {},
   "outputs": [],
   "source": [
    "#### FUNCION #### TRAIN ####\n",
    "\n",
    "result = []\n",
    "parameters = []\n",
    "mse_err = []\n",
    "rmse_err = []\n",
    "for x in wind_mod:\n",
    "    for i in k:\n",
    "        for s in x0:\n",
    "            \n",
    "            try:\n",
    "                func = L/(1-math.exp(-(i)*((x)-(s))))\n",
    "                params = [i, s]\n",
    "                \n",
    "                if func > 0: # He puesto esta condición porque previamente me salían valores negativos\n",
    "                    result.append(func)\n",
    "                    parameters.append(params)\n",
    "                    \n",
    "                    # Defino dos arrays para cálculo de errores\n",
    "                    actual_array = np.asarray(func, dtype=np.float32)\n",
    "                    predicted_array = np.asarray(wind_mod_pred, dtype=np.float32)\n",
    "\n",
    "                    mse_err.append(mse(actual_array, predicted_array))\n",
    "                    rmse_err.append(rmse(actual_array, predicted_array))\n",
    "                \n",
    "            except ZeroDivisionError:\n",
    "                continue"
   ]
  },
  {
   "cell_type": "code",
   "execution_count": 9,
   "metadata": {},
   "outputs": [
    {
     "name": "stdout",
     "output_type": "stream",
     "text": [
      "Tipo de elemento que devuelve la función de error:  <class 'numpy.float32'>\n",
      "Valor de RMSE mínimo:  97.65098\n",
      "Índice para el RMSE mín:  0\n",
      "Valor de MSE mínimo:  9535.714\n",
      "Índice para el MSE mín:  0\n",
      "Parámetros optimizados para el RMSE:  [0.5, 0.0]\n",
      "Parámetros optimizados para el MSE:  [0.5, 0.0]\n",
      "Valor de la función para el RMSE min:  136.00000207127727\n",
      "Valor de la función para el MSE min:  136.00000207127727\n",
      "Valor del wind_mod para el valor min de RMSE:  36\n",
      "Valor del wind_mod para el valor min de RMSE:  36\n"
     ]
    }
   ],
   "source": [
    "# Imprimo algunos ejemplos para conocer resultados\n",
    "\n",
    "print('Tipo de elemento que devuelve la función de error: ',type(rmse_err[0]))\n",
    "print('Valor de RMSE mínimo: ',np.amin(rmse_err))\n",
    "print('Índice para el RMSE mín: ',np.argmin(rmse_err))\n",
    "print('Valor de MSE mínimo: ',np.amin(mse_err))\n",
    "print('Índice para el MSE mín: ',np.argmin(mse_err))\n",
    "\n",
    "print('Parámetros optimizados para el RMSE: ',parameters[(int(np.argmin(rmse_err)))])\n",
    "print('Parámetros optimizados para el MSE: ',parameters[(int(np.argmin(mse_err)))])\n",
    "\n",
    "print('Valor de la función para el RMSE min: ',result[(int(np.argmin(rmse_err)))])\n",
    "print('Valor de la función para el MSE min: ',result[(int(np.argmin(mse_err)))])\n",
    "\n",
    "print('Valor del wind_mod para el valor min de RMSE: ',wind_mod[(int(np.argmin(rmse_err)))])\n",
    "print('Valor del wind_mod para el valor min de RMSE: ',wind_mod[(int(np.argmin(mse_err)))])"
   ]
  },
  {
   "cell_type": "code",
   "execution_count": 10,
   "metadata": {},
   "outputs": [],
   "source": [
    "rmse_best_k = parameters[(int(np.argmin(rmse_err)))][0]\n",
    "rmse_best_x0 = parameters[(int(np.argmin(rmse_err)))][1]\n",
    "\n",
    "mse_best_k = parameters[(int(np.argmin(mse_err)))][0]\n",
    "mse_best_x0 = parameters[(int(np.argmin(mse_err)))][1]\n",
    "\n",
    "rmse_output = (int(np.amin(rmse_err)))/100\n",
    "mse_output = (int(np.amin(mse_err)))/100\n"
   ]
  },
  {
   "cell_type": "code",
   "execution_count": 11,
   "metadata": {},
   "outputs": [],
   "source": [
    "#### FUNCION #### FIT ####\n",
    "\n",
    "wind_mod_pred_rmse = []\n",
    "wind_mod_pred_mse = []\n",
    "\n",
    "\n",
    "for x in wind_mod_pred:\n",
    "    funcion_params_rmse = L/(1-math.exp(-(rmse_best_k)*((x)-rmse_best_x0)))\n",
    "    funcion_params_mse = L/(1-math.exp(-(mse_best_k)*((x)-mse_best_x0)))\n",
    "    \n",
    "    wind_mod_pred_rmse.append(funcion_params_rmse)\n",
    "    wind_mod_pred_mse.append(funcion_params_mse)\n"
   ]
  },
  {
   "cell_type": "code",
   "execution_count": 12,
   "metadata": {},
   "outputs": [
    {
     "data": {
      "text/plain": [
       "[136.0000000000047,\n",
       " 136.00000000000105,\n",
       " 136.00000000000003,\n",
       " 136.00000046216442,\n",
       " 136.0003074054942,\n",
       " 136.0061746707773,\n",
       " 157.28639941395454]"
      ]
     },
     "metadata": {},
     "output_type": "display_data"
    },
    {
     "data": {
      "text/plain": [
       "[136.0000000000047,\n",
       " 136.00000000000105,\n",
       " 136.00000000000003,\n",
       " 136.00000046216442,\n",
       " 136.0003074054942,\n",
       " 136.0061746707773,\n",
       " 157.28639941395454]"
      ]
     },
     "metadata": {},
     "output_type": "display_data"
    }
   ],
   "source": [
    "display(wind_mod_pred_rmse)\n",
    "display(wind_mod_pred_mse) "
   ]
  },
  {
   "cell_type": "code",
   "execution_count": 13,
   "metadata": {},
   "outputs": [],
   "source": [
    "df_predict[\"production\"] = [ '%.2f' % elem for elem in wind_mod_pred_rmse ]"
   ]
  },
  {
   "cell_type": "code",
   "execution_count": 14,
   "metadata": {},
   "outputs": [
    {
     "name": "stdout",
     "output_type": "stream",
     "text": [
      "136.0 0.5 0.0\n",
      "95.35 0.97\n",
      "         observaciones production\n",
      "2875  2009-11-12 00:00     136.00\n",
      "2876  2009-11-15 03:00     136.00\n",
      "2877  2009-11-12 06:00     136.00\n",
      "2878  2009-11-12 09:00     136.00\n",
      "2879  2009-11-16 12:00     136.00\n",
      "2880  2009-11-28 18:00     136.01\n",
      "2881  2009-11-13 00:00     157.29\n"
     ]
    }
   ],
   "source": [
    "# OUTPUT\n",
    "\n",
    "print(L , rmse_best_k, rmse_best_x0)\n",
    "print(mse_output, rmse_output)\n",
    "print(df_predict[[\"observaciones\",\"production\"]])"
   ]
  },
  {
   "cell_type": "code",
   "execution_count": 49,
   "metadata": {},
   "outputs": [
    {
     "name": "stdout",
     "output_type": "stream",
     "text": [
      "2875    -41.53\n",
      "2876    463.44\n",
      "2877    136.44\n",
      "2878     -0.00\n",
      "2879     -0.00\n",
      "2880     -0.00\n",
      "2881     -0.00\n",
      "Name: production, dtype: float64\n"
     ]
    }
   ],
   "source": [
    "df_predict['production'] = pd.to_numeric(df_predict['production'])\n",
    "print(df_predict['production'])"
   ]
  },
  {
   "cell_type": "code",
   "execution_count": 50,
   "metadata": {},
   "outputs": [
    {
     "ename": "TypeError",
     "evalue": "can't multiply sequence by non-int of type 'float'",
     "output_type": "error",
     "traceback": [
      "\u001b[0;31m---------------------------------------------------------------------------\u001b[0m",
      "\u001b[0;31mTypeError\u001b[0m                                 Traceback (most recent call last)",
      "\u001b[0;32m<ipython-input-50-dbefa56f6c5b>\u001b[0m in \u001b[0;36m<module>\u001b[0;34m\u001b[0m\n\u001b[1;32m      1\u001b[0m \u001b[0;32mimport\u001b[0m \u001b[0mseaborn\u001b[0m \u001b[0;32mas\u001b[0m \u001b[0msns\u001b[0m\u001b[0;34m;\u001b[0m \u001b[0msns\u001b[0m\u001b[0;34m.\u001b[0m\u001b[0mset\u001b[0m\u001b[0;34m(\u001b[0m\u001b[0;34m)\u001b[0m\u001b[0;34m\u001b[0m\u001b[0;34m\u001b[0m\u001b[0m\n\u001b[1;32m      2\u001b[0m \u001b[0;34m\u001b[0m\u001b[0m\n\u001b[0;32m----> 3\u001b[0;31m \u001b[0max\u001b[0m \u001b[0;34m=\u001b[0m \u001b[0msns\u001b[0m\u001b[0;34m.\u001b[0m\u001b[0mregplot\u001b[0m\u001b[0;34m(\u001b[0m\u001b[0mx\u001b[0m\u001b[0;34m=\u001b[0m\u001b[0;34m\"production\"\u001b[0m\u001b[0;34m,\u001b[0m \u001b[0my\u001b[0m\u001b[0;34m=\u001b[0m\u001b[0;34m\"wind_mod\"\u001b[0m\u001b[0;34m,\u001b[0m \u001b[0mdata\u001b[0m\u001b[0;34m=\u001b[0m\u001b[0mdf_predict\u001b[0m\u001b[0;34m)\u001b[0m\u001b[0;34m\u001b[0m\u001b[0;34m\u001b[0m\u001b[0m\n\u001b[0m",
      "\u001b[0;32m~/miniconda3/envs/ironhack_env/lib/python3.7/site-packages/seaborn/regression.py\u001b[0m in \u001b[0;36mregplot\u001b[0;34m(x, y, data, x_estimator, x_bins, x_ci, scatter, fit_reg, ci, n_boot, units, order, logistic, lowess, robust, logx, x_partial, y_partial, truncate, dropna, x_jitter, y_jitter, label, color, marker, scatter_kws, line_kws, ax)\u001b[0m\n\u001b[1;32m    787\u001b[0m     \u001b[0mscatter_kws\u001b[0m\u001b[0;34m[\u001b[0m\u001b[0;34m\"marker\"\u001b[0m\u001b[0;34m]\u001b[0m \u001b[0;34m=\u001b[0m \u001b[0mmarker\u001b[0m\u001b[0;34m\u001b[0m\u001b[0;34m\u001b[0m\u001b[0m\n\u001b[1;32m    788\u001b[0m     \u001b[0mline_kws\u001b[0m \u001b[0;34m=\u001b[0m \u001b[0;34m{\u001b[0m\u001b[0;34m}\u001b[0m \u001b[0;32mif\u001b[0m \u001b[0mline_kws\u001b[0m \u001b[0;32mis\u001b[0m \u001b[0;32mNone\u001b[0m \u001b[0;32melse\u001b[0m \u001b[0mcopy\u001b[0m\u001b[0;34m.\u001b[0m\u001b[0mcopy\u001b[0m\u001b[0;34m(\u001b[0m\u001b[0mline_kws\u001b[0m\u001b[0;34m)\u001b[0m\u001b[0;34m\u001b[0m\u001b[0;34m\u001b[0m\u001b[0m\n\u001b[0;32m--> 789\u001b[0;31m     \u001b[0mplotter\u001b[0m\u001b[0;34m.\u001b[0m\u001b[0mplot\u001b[0m\u001b[0;34m(\u001b[0m\u001b[0max\u001b[0m\u001b[0;34m,\u001b[0m \u001b[0mscatter_kws\u001b[0m\u001b[0;34m,\u001b[0m \u001b[0mline_kws\u001b[0m\u001b[0;34m)\u001b[0m\u001b[0;34m\u001b[0m\u001b[0;34m\u001b[0m\u001b[0m\n\u001b[0m\u001b[1;32m    790\u001b[0m     \u001b[0;32mreturn\u001b[0m \u001b[0max\u001b[0m\u001b[0;34m\u001b[0m\u001b[0;34m\u001b[0m\u001b[0m\n\u001b[1;32m    791\u001b[0m \u001b[0;34m\u001b[0m\u001b[0m\n",
      "\u001b[0;32m~/miniconda3/envs/ironhack_env/lib/python3.7/site-packages/seaborn/regression.py\u001b[0m in \u001b[0;36mplot\u001b[0;34m(self, ax, scatter_kws, line_kws)\u001b[0m\n\u001b[1;32m    342\u001b[0m             \u001b[0mself\u001b[0m\u001b[0;34m.\u001b[0m\u001b[0mscatterplot\u001b[0m\u001b[0;34m(\u001b[0m\u001b[0max\u001b[0m\u001b[0;34m,\u001b[0m \u001b[0mscatter_kws\u001b[0m\u001b[0;34m)\u001b[0m\u001b[0;34m\u001b[0m\u001b[0;34m\u001b[0m\u001b[0m\n\u001b[1;32m    343\u001b[0m         \u001b[0;32mif\u001b[0m \u001b[0mself\u001b[0m\u001b[0;34m.\u001b[0m\u001b[0mfit_reg\u001b[0m\u001b[0;34m:\u001b[0m\u001b[0;34m\u001b[0m\u001b[0;34m\u001b[0m\u001b[0m\n\u001b[0;32m--> 344\u001b[0;31m             \u001b[0mself\u001b[0m\u001b[0;34m.\u001b[0m\u001b[0mlineplot\u001b[0m\u001b[0;34m(\u001b[0m\u001b[0max\u001b[0m\u001b[0;34m,\u001b[0m \u001b[0mline_kws\u001b[0m\u001b[0;34m)\u001b[0m\u001b[0;34m\u001b[0m\u001b[0;34m\u001b[0m\u001b[0m\n\u001b[0m\u001b[1;32m    345\u001b[0m \u001b[0;34m\u001b[0m\u001b[0m\n\u001b[1;32m    346\u001b[0m         \u001b[0;31m# Label the axes\u001b[0m\u001b[0;34m\u001b[0m\u001b[0;34m\u001b[0m\u001b[0;34m\u001b[0m\u001b[0m\n",
      "\u001b[0;32m~/miniconda3/envs/ironhack_env/lib/python3.7/site-packages/seaborn/regression.py\u001b[0m in \u001b[0;36mlineplot\u001b[0;34m(self, ax, kws)\u001b[0m\n\u001b[1;32m    387\u001b[0m \u001b[0;34m\u001b[0m\u001b[0m\n\u001b[1;32m    388\u001b[0m         \u001b[0;31m# Fit the regression model\u001b[0m\u001b[0;34m\u001b[0m\u001b[0;34m\u001b[0m\u001b[0;34m\u001b[0m\u001b[0m\n\u001b[0;32m--> 389\u001b[0;31m         \u001b[0mgrid\u001b[0m\u001b[0;34m,\u001b[0m \u001b[0myhat\u001b[0m\u001b[0;34m,\u001b[0m \u001b[0merr_bands\u001b[0m \u001b[0;34m=\u001b[0m \u001b[0mself\u001b[0m\u001b[0;34m.\u001b[0m\u001b[0mfit_regression\u001b[0m\u001b[0;34m(\u001b[0m\u001b[0max\u001b[0m\u001b[0;34m)\u001b[0m\u001b[0;34m\u001b[0m\u001b[0;34m\u001b[0m\u001b[0m\n\u001b[0m\u001b[1;32m    390\u001b[0m \u001b[0;34m\u001b[0m\u001b[0m\n\u001b[1;32m    391\u001b[0m         \u001b[0;31m# Get set default aesthetics\u001b[0m\u001b[0;34m\u001b[0m\u001b[0;34m\u001b[0m\u001b[0;34m\u001b[0m\u001b[0m\n",
      "\u001b[0;32m~/miniconda3/envs/ironhack_env/lib/python3.7/site-packages/seaborn/regression.py\u001b[0m in \u001b[0;36mfit_regression\u001b[0;34m(self, ax, x_range, grid)\u001b[0m\n\u001b[1;32m    206\u001b[0m             \u001b[0myhat\u001b[0m\u001b[0;34m,\u001b[0m \u001b[0myhat_boots\u001b[0m \u001b[0;34m=\u001b[0m \u001b[0mself\u001b[0m\u001b[0;34m.\u001b[0m\u001b[0mfit_logx\u001b[0m\u001b[0;34m(\u001b[0m\u001b[0mgrid\u001b[0m\u001b[0;34m)\u001b[0m\u001b[0;34m\u001b[0m\u001b[0;34m\u001b[0m\u001b[0m\n\u001b[1;32m    207\u001b[0m         \u001b[0;32melse\u001b[0m\u001b[0;34m:\u001b[0m\u001b[0;34m\u001b[0m\u001b[0;34m\u001b[0m\u001b[0m\n\u001b[0;32m--> 208\u001b[0;31m             \u001b[0myhat\u001b[0m\u001b[0;34m,\u001b[0m \u001b[0myhat_boots\u001b[0m \u001b[0;34m=\u001b[0m \u001b[0mself\u001b[0m\u001b[0;34m.\u001b[0m\u001b[0mfit_fast\u001b[0m\u001b[0;34m(\u001b[0m\u001b[0mgrid\u001b[0m\u001b[0;34m)\u001b[0m\u001b[0;34m\u001b[0m\u001b[0;34m\u001b[0m\u001b[0m\n\u001b[0m\u001b[1;32m    209\u001b[0m \u001b[0;34m\u001b[0m\u001b[0m\n\u001b[1;32m    210\u001b[0m         \u001b[0;31m# Compute the confidence interval at each grid point\u001b[0m\u001b[0;34m\u001b[0m\u001b[0;34m\u001b[0m\u001b[0;34m\u001b[0m\u001b[0m\n",
      "\u001b[0;32m~/miniconda3/envs/ironhack_env/lib/python3.7/site-packages/seaborn/regression.py\u001b[0m in \u001b[0;36mfit_fast\u001b[0;34m(self, grid)\u001b[0m\n\u001b[1;32m    223\u001b[0m         \u001b[0mX\u001b[0m\u001b[0;34m,\u001b[0m \u001b[0my\u001b[0m \u001b[0;34m=\u001b[0m \u001b[0mnp\u001b[0m\u001b[0;34m.\u001b[0m\u001b[0mc_\u001b[0m\u001b[0;34m[\u001b[0m\u001b[0mnp\u001b[0m\u001b[0;34m.\u001b[0m\u001b[0mones\u001b[0m\u001b[0;34m(\u001b[0m\u001b[0mlen\u001b[0m\u001b[0;34m(\u001b[0m\u001b[0mself\u001b[0m\u001b[0;34m.\u001b[0m\u001b[0mx\u001b[0m\u001b[0;34m)\u001b[0m\u001b[0;34m)\u001b[0m\u001b[0;34m,\u001b[0m \u001b[0mself\u001b[0m\u001b[0;34m.\u001b[0m\u001b[0mx\u001b[0m\u001b[0;34m]\u001b[0m\u001b[0;34m,\u001b[0m \u001b[0mself\u001b[0m\u001b[0;34m.\u001b[0m\u001b[0my\u001b[0m\u001b[0;34m\u001b[0m\u001b[0;34m\u001b[0m\u001b[0m\n\u001b[1;32m    224\u001b[0m         \u001b[0mgrid\u001b[0m \u001b[0;34m=\u001b[0m \u001b[0mnp\u001b[0m\u001b[0;34m.\u001b[0m\u001b[0mc_\u001b[0m\u001b[0;34m[\u001b[0m\u001b[0mnp\u001b[0m\u001b[0;34m.\u001b[0m\u001b[0mones\u001b[0m\u001b[0;34m(\u001b[0m\u001b[0mlen\u001b[0m\u001b[0;34m(\u001b[0m\u001b[0mgrid\u001b[0m\u001b[0;34m)\u001b[0m\u001b[0;34m)\u001b[0m\u001b[0;34m,\u001b[0m \u001b[0mgrid\u001b[0m\u001b[0;34m]\u001b[0m\u001b[0;34m\u001b[0m\u001b[0;34m\u001b[0m\u001b[0m\n\u001b[0;32m--> 225\u001b[0;31m         \u001b[0myhat\u001b[0m \u001b[0;34m=\u001b[0m \u001b[0mgrid\u001b[0m\u001b[0;34m.\u001b[0m\u001b[0mdot\u001b[0m\u001b[0;34m(\u001b[0m\u001b[0mreg_func\u001b[0m\u001b[0;34m(\u001b[0m\u001b[0mX\u001b[0m\u001b[0;34m,\u001b[0m \u001b[0my\u001b[0m\u001b[0;34m)\u001b[0m\u001b[0;34m)\u001b[0m\u001b[0;34m\u001b[0m\u001b[0;34m\u001b[0m\u001b[0m\n\u001b[0m\u001b[1;32m    226\u001b[0m         \u001b[0;32mif\u001b[0m \u001b[0mself\u001b[0m\u001b[0;34m.\u001b[0m\u001b[0mci\u001b[0m \u001b[0;32mis\u001b[0m \u001b[0;32mNone\u001b[0m\u001b[0;34m:\u001b[0m\u001b[0;34m\u001b[0m\u001b[0;34m\u001b[0m\u001b[0m\n\u001b[1;32m    227\u001b[0m             \u001b[0;32mreturn\u001b[0m \u001b[0myhat\u001b[0m\u001b[0;34m,\u001b[0m \u001b[0;32mNone\u001b[0m\u001b[0;34m\u001b[0m\u001b[0;34m\u001b[0m\u001b[0m\n",
      "\u001b[0;32m~/miniconda3/envs/ironhack_env/lib/python3.7/site-packages/seaborn/regression.py\u001b[0m in \u001b[0;36mreg_func\u001b[0;34m(_x, _y)\u001b[0m\n\u001b[1;32m    219\u001b[0m         \u001b[0;34m\"\"\"Low-level regression and prediction using linear algebra.\"\"\"\u001b[0m\u001b[0;34m\u001b[0m\u001b[0;34m\u001b[0m\u001b[0m\n\u001b[1;32m    220\u001b[0m         \u001b[0;32mdef\u001b[0m \u001b[0mreg_func\u001b[0m\u001b[0;34m(\u001b[0m\u001b[0m_x\u001b[0m\u001b[0;34m,\u001b[0m \u001b[0m_y\u001b[0m\u001b[0;34m)\u001b[0m\u001b[0;34m:\u001b[0m\u001b[0;34m\u001b[0m\u001b[0;34m\u001b[0m\u001b[0m\n\u001b[0;32m--> 221\u001b[0;31m             \u001b[0;32mreturn\u001b[0m \u001b[0mnp\u001b[0m\u001b[0;34m.\u001b[0m\u001b[0mlinalg\u001b[0m\u001b[0;34m.\u001b[0m\u001b[0mpinv\u001b[0m\u001b[0;34m(\u001b[0m\u001b[0m_x\u001b[0m\u001b[0;34m)\u001b[0m\u001b[0;34m.\u001b[0m\u001b[0mdot\u001b[0m\u001b[0;34m(\u001b[0m\u001b[0m_y\u001b[0m\u001b[0;34m)\u001b[0m\u001b[0;34m\u001b[0m\u001b[0;34m\u001b[0m\u001b[0m\n\u001b[0m\u001b[1;32m    222\u001b[0m \u001b[0;34m\u001b[0m\u001b[0m\n\u001b[1;32m    223\u001b[0m         \u001b[0mX\u001b[0m\u001b[0;34m,\u001b[0m \u001b[0my\u001b[0m \u001b[0;34m=\u001b[0m \u001b[0mnp\u001b[0m\u001b[0;34m.\u001b[0m\u001b[0mc_\u001b[0m\u001b[0;34m[\u001b[0m\u001b[0mnp\u001b[0m\u001b[0;34m.\u001b[0m\u001b[0mones\u001b[0m\u001b[0;34m(\u001b[0m\u001b[0mlen\u001b[0m\u001b[0;34m(\u001b[0m\u001b[0mself\u001b[0m\u001b[0;34m.\u001b[0m\u001b[0mx\u001b[0m\u001b[0;34m)\u001b[0m\u001b[0;34m)\u001b[0m\u001b[0;34m,\u001b[0m \u001b[0mself\u001b[0m\u001b[0;34m.\u001b[0m\u001b[0mx\u001b[0m\u001b[0;34m]\u001b[0m\u001b[0;34m,\u001b[0m \u001b[0mself\u001b[0m\u001b[0;34m.\u001b[0m\u001b[0my\u001b[0m\u001b[0;34m\u001b[0m\u001b[0;34m\u001b[0m\u001b[0m\n",
      "\u001b[0;31mTypeError\u001b[0m: can't multiply sequence by non-int of type 'float'"
     ]
    },
    {
     "data": {
      "image/png": "[encoded data removed]",
      "text/plain": [
       "<Figure size 432x288 with 1 Axes>"
      ]
     },
     "metadata": {},
     "output_type": "display_data"
    }
   ],
   "source": [
    "import seaborn as sns; sns.set()\n",
    "\n",
    "ax = sns.regplot(x=\"production\", y=\"wind_mod\", data=df_predict)\n"
   ]
  },
  {
   "cell_type": "code",
   "execution_count": null,
   "metadata": {},
   "outputs": [],
   "source": []
  },
  {
   "cell_type": "code",
   "execution_count": null,
   "metadata": {},
   "outputs": [],
   "source": []
  },
  {
   "cell_type": "code",
   "execution_count": 33,
   "metadata": {},
   "outputs": [],
   "source": [
    "# Valores negativos \n",
    "\n",
    "#### FUNCION #### TRAIN ####\n",
    "\n",
    "result_2 = []\n",
    "parameters_2 = []\n",
    "mse_err_2 = []\n",
    "rmse_err_2 = []\n",
    "for x in wind_mod:#range(len(production)):\n",
    "    for i in k:#range(len(k)):\n",
    "        for s in x0:#range(len(x0)):\n",
    "            \n",
    "            try:\n",
    "                func = L/(1-math.exp(-(i)*((x)-(s))))\n",
    "                params = [i, s]\n",
    "                \n",
    "                #if func > 0: # He puesto esta condición porque previamente me salían valores negativos\n",
    "                result_2.append(func)\n",
    "                parameters_2.append(params)\n",
    "\n",
    "                actual_array_2 = np.asarray(func, dtype=np.float32)\n",
    "                predicted_array = np.asarray(wind_mod_pred, dtype=np.float32)\n",
    "\n",
    "                mse_err_2.append(mse(actual_array_2, predicted_array))\n",
    "                rmse_err_2.append(rmse(actual_array_2, predicted_array))\n",
    "                \n",
    "            except ZeroDivisionError:\n",
    "                continue"
   ]
  },
  {
   "cell_type": "code",
   "execution_count": 34,
   "metadata": {},
   "outputs": [
    {
     "name": "stdout",
     "output_type": "stream",
     "text": [
      "Tipo de elemento que devuelve la función de error:  <class 'numpy.float32'>\n",
      "Valor de RMSE mínimo:  24.330444\n",
      "Índice para el RMSE mín:  4849\n",
      "Valor de MSE mínimo:  591.9705\n",
      "Índice para el MSE mín:  4849\n",
      "Parámetros optimizados para el RMSE:  [0.6000000000000001, 64.42105263157895]\n",
      "Parámetros optimizados para el MSE:  [0.6000000000000001, 64.42105263157895]\n",
      "Valor de la función para el RMSE min:  41.53498635487593\n",
      "Valor de la función para el MSE min:  41.53498635487593\n"
     ]
    },
    {
     "ename": "IndexError",
     "evalue": "list index out of range",
     "output_type": "error",
     "traceback": [
      "\u001b[0;31m---------------------------------------------------------------------------\u001b[0m",
      "\u001b[0;31mIndexError\u001b[0m                                Traceback (most recent call last)",
      "\u001b[0;32m<ipython-input-34-5f1d40b7abb4>\u001b[0m in \u001b[0;36m<module>\u001b[0;34m\u001b[0m\n\u001b[1;32m     12\u001b[0m \u001b[0mprint\u001b[0m\u001b[0;34m(\u001b[0m\u001b[0;34m'Valor de la función para el MSE min: '\u001b[0m\u001b[0;34m,\u001b[0m\u001b[0mresult_2\u001b[0m\u001b[0;34m[\u001b[0m\u001b[0;34m(\u001b[0m\u001b[0mint\u001b[0m\u001b[0;34m(\u001b[0m\u001b[0mnp\u001b[0m\u001b[0;34m.\u001b[0m\u001b[0margmin\u001b[0m\u001b[0;34m(\u001b[0m\u001b[0mmse_err_2\u001b[0m\u001b[0;34m)\u001b[0m\u001b[0;34m)\u001b[0m\u001b[0;34m)\u001b[0m\u001b[0;34m]\u001b[0m\u001b[0;34m)\u001b[0m\u001b[0;34m\u001b[0m\u001b[0;34m\u001b[0m\u001b[0m\n\u001b[1;32m     13\u001b[0m \u001b[0;34m\u001b[0m\u001b[0m\n\u001b[0;32m---> 14\u001b[0;31m \u001b[0mprint\u001b[0m\u001b[0;34m(\u001b[0m\u001b[0;34m'Valor del wind_mod para el valor min de RMSE: '\u001b[0m\u001b[0;34m,\u001b[0m\u001b[0mwind_mod\u001b[0m\u001b[0;34m[\u001b[0m\u001b[0;34m(\u001b[0m\u001b[0mint\u001b[0m\u001b[0;34m(\u001b[0m\u001b[0mnp\u001b[0m\u001b[0;34m.\u001b[0m\u001b[0margmin\u001b[0m\u001b[0;34m(\u001b[0m\u001b[0mrmse_err_2\u001b[0m\u001b[0;34m)\u001b[0m\u001b[0;34m)\u001b[0m\u001b[0;34m)\u001b[0m\u001b[0;34m]\u001b[0m\u001b[0;34m)\u001b[0m\u001b[0;34m\u001b[0m\u001b[0;34m\u001b[0m\u001b[0m\n\u001b[0m\u001b[1;32m     15\u001b[0m \u001b[0mprint\u001b[0m\u001b[0;34m(\u001b[0m\u001b[0;34m'Valor del wind_mod para el valor min de MSE: '\u001b[0m\u001b[0;34m,\u001b[0m\u001b[0mwind_mod\u001b[0m\u001b[0;34m[\u001b[0m\u001b[0;34m(\u001b[0m\u001b[0mint\u001b[0m\u001b[0;34m(\u001b[0m\u001b[0mnp\u001b[0m\u001b[0;34m.\u001b[0m\u001b[0margmin\u001b[0m\u001b[0;34m(\u001b[0m\u001b[0mmse_err_2\u001b[0m\u001b[0;34m)\u001b[0m\u001b[0;34m)\u001b[0m\u001b[0;34m)\u001b[0m\u001b[0;34m]\u001b[0m\u001b[0;34m)\u001b[0m\u001b[0;34m\u001b[0m\u001b[0;34m\u001b[0m\u001b[0m\n",
      "\u001b[0;31mIndexError\u001b[0m: list index out of range"
     ]
    }
   ],
   "source": [
    "print('Tipo de elemento que devuelve la función de error: ',type(rmse_err[0]))\n",
    "\n",
    "print('Valor de RMSE mínimo: ',np.amin(rmse_err_2))\n",
    "print('Índice para el RMSE mín: ',np.argmin(rmse_err_2))\n",
    "print('Valor de MSE mínimo: ',np.amin(mse_err_2))\n",
    "print('Índice para el MSE mín: ',np.argmin(mse_err_2))\n",
    "\n",
    "print('Parámetros optimizados para el RMSE: ',parameters_2[(int(np.argmin(rmse_err_2)))])\n",
    "print('Parámetros optimizados para el MSE: ',parameters_2[(int(np.argmin(mse_err_2)))])\n",
    "\n",
    "print('Valor de la función para el RMSE min: ',result_2[(int(np.argmin(rmse_err_2)))])\n",
    "print('Valor de la función para el MSE min: ',result_2[(int(np.argmin(mse_err_2)))])\n",
    "\n",
    "print('Valor del wind_mod para el valor min de RMSE: ',wind_mod[(int(np.argmin(rmse_err_2)))])\n",
    "print('Valor del wind_mod para el valor min de MSE: ',wind_mod[(int(np.argmin(mse_err_2)))])"
   ]
  },
  {
   "cell_type": "code",
   "execution_count": 35,
   "metadata": {},
   "outputs": [],
   "source": [
    "rmse_best_k_2 = parameters_2[(int(np.argmin(rmse_err_2)))][0]\n",
    "rmse_best_x0_2 = parameters_2[(int(np.argmin(rmse_err_2)))][1]\n",
    "\n",
    "mse_best_k_2 = parameters_2[(int(np.argmin(mse_err_2)))][0]\n",
    "mse_best_x0_2 = parameters_2[(int(np.argmin(mse_err_2)))][1]\n",
    "\n",
    "rmse_output = (int(np.amin(rmse_err_2)))/100\n",
    "mse_output = (int(np.amin(mse_err_2)))/100"
   ]
  },
  {
   "cell_type": "code",
   "execution_count": 36,
   "metadata": {},
   "outputs": [],
   "source": [
    "#### FUNCION #### FIT ####\n",
    "\n",
    "wind_mod_pred_rmse_2 = []\n",
    "wind_mod_pred_mse_2 = []\n",
    "\n",
    "\n",
    "for x in wind_mod_pred:\n",
    "    funcion_params_rmse_2 = L/(1-math.exp(-(rmse_best_k_2)*((x)-rmse_best_x0_2)))\n",
    "    funcion_params_mse_2 = L/(1-math.exp(-(mse_best_k_2)*((x)-mse_best_x0_2)))\n",
    "    \n",
    "    wind_mod_pred_rmse_2.append(funcion_params_rmse_2)\n",
    "    wind_mod_pred_mse_2.append(funcion_params_mse_2)\n"
   ]
  },
  {
   "cell_type": "code",
   "execution_count": 37,
   "metadata": {},
   "outputs": [
    {
     "data": {
      "text/plain": [
       "[-41.53498635487593,\n",
       " 463.4440989924721,\n",
       " 136.4353881856094,\n",
       " -3.231508349072458e-05,\n",
       " -1.3240616909976145e-08,\n",
       " -3.617829414448562e-10,\n",
       " -2.450310150793947e-14]"
      ]
     },
     "metadata": {},
     "output_type": "display_data"
    },
    {
     "data": {
      "text/plain": [
       "[-41.53498635487593,\n",
       " 463.4440989924721,\n",
       " 136.4353881856094,\n",
       " -3.231508349072458e-05,\n",
       " -1.3240616909976145e-08,\n",
       " -3.617829414448562e-10,\n",
       " -2.450310150793947e-14]"
      ]
     },
     "metadata": {},
     "output_type": "display_data"
    }
   ],
   "source": [
    "display(wind_mod_pred_rmse_2)\n",
    "display(wind_mod_pred_mse_2) "
   ]
  },
  {
   "cell_type": "code",
   "execution_count": null,
   "metadata": {},
   "outputs": [],
   "source": []
  },
  {
   "cell_type": "code",
   "execution_count": 38,
   "metadata": {},
   "outputs": [],
   "source": [
    "df_predict[\"production\"] = [ '%.2f' % elem for elem in wind_mod_pred_rmse_2 ]"
   ]
  },
  {
   "cell_type": "code",
   "execution_count": 39,
   "metadata": {},
   "outputs": [
    {
     "name": "stdout",
     "output_type": "stream",
     "text": [
      "136.0 0.5 0.0\n",
      "5.91 0.24\n",
      "         observaciones production\n",
      "2875  2009-11-12 00:00     -41.53\n",
      "2876  2009-11-15 03:00     463.44\n",
      "2877  2009-11-12 06:00     136.44\n",
      "2878  2009-11-12 09:00      -0.00\n",
      "2879  2009-11-16 12:00      -0.00\n",
      "2880  2009-11-28 18:00      -0.00\n",
      "2881  2009-11-13 00:00      -0.00\n"
     ]
    }
   ],
   "source": [
    "# OUTPUT\n",
    "\n",
    "print(L , rmse_best_k, rmse_best_x0)\n",
    "print(mse_output, rmse_output)\n",
    "print(df_predict[[\"observaciones\",\"production\"]])"
   ]
  },
  {
   "cell_type": "code",
   "execution_count": null,
   "metadata": {},
   "outputs": [],
   "source": []
  }
 ],
 "metadata": {
  "kernelspec": {
   "display_name": "Python 3",
   "language": "python",
   "name": "python3"
  },
  "language_info": {
   "codemirror_mode": {
    "name": "ipython",
    "version": 3
   },
   "file_extension": ".py",
   "mimetype": "text/x-python",
   "name": "python",
   "nbconvert_exporter": "python",
   "pygments_lexer": "ipython3",
   "version": "3.7.3"
  }
 },
 "nbformat": 4,
 "nbformat_minor": 2
}
