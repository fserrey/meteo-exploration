{
 "cells": [
  {
   "cell_type": "code",
   "execution_count": 1,
   "metadata": {},
   "outputs": [],
   "source": [
    "import numpy as np\n",
    "import pandas as pd"
   ]
  },
  {
   "cell_type": "code",
   "execution_count": 2,
   "metadata": {},
   "outputs": [],
   "source": [
    "data = pd.read_fwf('Meteologica_vacante_ProgPredR_ProblemaDatos_20190910.txt', parse_dates=['observaciones'])#, sep=\" \", header=None)"
   ]
  },
  {
   "cell_type": "code",
   "execution_count": 3,
   "metadata": {},
   "outputs": [
    {
     "data": {
      "text/html": [
       "<div>\n",
       "<style scoped>\n",
       "    .dataframe tbody tr th:only-of-type {\n",
       "        vertical-align: middle;\n",
       "    }\n",
       "\n",
       "    .dataframe tbody tr th {\n",
       "        vertical-align: top;\n",
       "    }\n",
       "\n",
       "    .dataframe thead th {\n",
       "        text-align: right;\n",
       "    }\n",
       "</style>\n",
       "<table border=\"1\" class=\"dataframe\">\n",
       "  <thead>\n",
       "    <tr style=\"text-align: right;\">\n",
       "      <th></th>\n",
       "      <th>observaciones</th>\n",
       "      <th>Unnamed: 1</th>\n",
       "    </tr>\n",
       "  </thead>\n",
       "  <tbody>\n",
       "    <tr>\n",
       "      <th>0</th>\n",
       "      <td>2008-01-02 15:00</td>\n",
       "      <td>512 36</td>\n",
       "    </tr>\n",
       "    <tr>\n",
       "      <th>1</th>\n",
       "      <td>2008-01-02 18:00</td>\n",
       "      <td>726 27</td>\n",
       "    </tr>\n",
       "    <tr>\n",
       "      <th>2</th>\n",
       "      <td>2008-01-02 21:00</td>\n",
       "      <td>730 23</td>\n",
       "    </tr>\n",
       "    <tr>\n",
       "      <th>3</th>\n",
       "      <td>2008-01-03 00:00</td>\n",
       "      <td>844 38</td>\n",
       "    </tr>\n",
       "    <tr>\n",
       "      <th>4</th>\n",
       "      <td>2008-01-03 03:00</td>\n",
       "      <td>948 46</td>\n",
       "    </tr>\n",
       "  </tbody>\n",
       "</table>\n",
       "</div>"
      ],
      "text/plain": [
       "      observaciones Unnamed: 1\n",
       "0  2008-01-02 15:00     512 36\n",
       "1  2008-01-02 18:00     726 27\n",
       "2  2008-01-02 21:00     730 23\n",
       "3  2008-01-03 00:00     844 38\n",
       "4  2008-01-03 03:00     948 46"
      ]
     },
     "execution_count": 3,
     "metadata": {},
     "output_type": "execute_result"
    }
   ],
   "source": [
    "data.head()"
   ]
  },
  {
   "cell_type": "code",
   "execution_count": 4,
   "metadata": {},
   "outputs": [
    {
     "name": "stdout",
     "output_type": "stream",
     "text": [
      "<class 'pandas.core.frame.DataFrame'>\n",
      "RangeIndex: 2882 entries, 0 to 2881\n",
      "Data columns (total 2 columns):\n",
      "observaciones    2882 non-null object\n",
      "Unnamed: 1       2881 non-null object\n",
      "dtypes: object(2)\n",
      "memory usage: 45.1+ KB\n"
     ]
    }
   ],
   "source": [
    "data.info()"
   ]
  },
  {
   "cell_type": "code",
   "execution_count": 5,
   "metadata": {},
   "outputs": [
    {
     "data": {
      "text/html": [
       "<div>\n",
       "<style scoped>\n",
       "    .dataframe tbody tr th:only-of-type {\n",
       "        vertical-align: middle;\n",
       "    }\n",
       "\n",
       "    .dataframe tbody tr th {\n",
       "        vertical-align: top;\n",
       "    }\n",
       "\n",
       "    .dataframe thead th {\n",
       "        text-align: right;\n",
       "    }\n",
       "</style>\n",
       "<table border=\"1\" class=\"dataframe\">\n",
       "  <thead>\n",
       "    <tr style=\"text-align: right;\">\n",
       "      <th></th>\n",
       "      <th>observaciones</th>\n",
       "      <th>Unnamed: 1</th>\n",
       "    </tr>\n",
       "  </thead>\n",
       "  <tbody>\n",
       "    <tr>\n",
       "      <th>2874</th>\n",
       "      <td>predicciones</td>\n",
       "      <td>NaN</td>\n",
       "    </tr>\n",
       "  </tbody>\n",
       "</table>\n",
       "</div>"
      ],
      "text/plain": [
       "     observaciones Unnamed: 1\n",
       "2874  predicciones        NaN"
      ]
     },
     "execution_count": 5,
     "metadata": {},
     "output_type": "execute_result"
    }
   ],
   "source": [
    "data.loc[data['observaciones'] == 'predicciones']"
   ]
  },
  {
   "cell_type": "code",
   "execution_count": 6,
   "metadata": {},
   "outputs": [],
   "source": [
    "split = data.loc[data['observaciones'] == 'predicciones'].index.values.astype(int)[0]\n",
    "df_observation = data[:split]\n",
    "df_prediction = data[split+1:]"
   ]
  },
  {
   "cell_type": "code",
   "execution_count": 7,
   "metadata": {},
   "outputs": [
    {
     "name": "stdout",
     "output_type": "stream",
     "text": [
      "(2874, 2)\n",
      "(7, 2)\n"
     ]
    },
    {
     "data": {
      "text/html": [
       "<div>\n",
       "<style scoped>\n",
       "    .dataframe tbody tr th:only-of-type {\n",
       "        vertical-align: middle;\n",
       "    }\n",
       "\n",
       "    .dataframe tbody tr th {\n",
       "        vertical-align: top;\n",
       "    }\n",
       "\n",
       "    .dataframe thead th {\n",
       "        text-align: right;\n",
       "    }\n",
       "</style>\n",
       "<table border=\"1\" class=\"dataframe\">\n",
       "  <thead>\n",
       "    <tr style=\"text-align: right;\">\n",
       "      <th></th>\n",
       "      <th>observaciones</th>\n",
       "      <th>Unnamed: 1</th>\n",
       "    </tr>\n",
       "  </thead>\n",
       "  <tbody>\n",
       "    <tr>\n",
       "      <th>2875</th>\n",
       "      <td>2009-11-12 00:00</td>\n",
       "      <td>62</td>\n",
       "    </tr>\n",
       "    <tr>\n",
       "      <th>2876</th>\n",
       "      <td>2009-11-15 03:00</td>\n",
       "      <td>65</td>\n",
       "    </tr>\n",
       "    <tr>\n",
       "      <th>2877</th>\n",
       "      <td>2009-11-12 06:00</td>\n",
       "      <td>74</td>\n",
       "    </tr>\n",
       "    <tr>\n",
       "      <th>2878</th>\n",
       "      <td>2009-11-12 09:00</td>\n",
       "      <td>39</td>\n",
       "    </tr>\n",
       "    <tr>\n",
       "      <th>2879</th>\n",
       "      <td>2009-11-16 12:00</td>\n",
       "      <td>26</td>\n",
       "    </tr>\n",
       "    <tr>\n",
       "      <th>2880</th>\n",
       "      <td>2009-11-28 18:00</td>\n",
       "      <td>20</td>\n",
       "    </tr>\n",
       "    <tr>\n",
       "      <th>2881</th>\n",
       "      <td>2009-11-13 00:00</td>\n",
       "      <td>4</td>\n",
       "    </tr>\n",
       "  </tbody>\n",
       "</table>\n",
       "</div>"
      ],
      "text/plain": [
       "         observaciones Unnamed: 1\n",
       "2875  2009-11-12 00:00         62\n",
       "2876  2009-11-15 03:00         65\n",
       "2877  2009-11-12 06:00         74\n",
       "2878  2009-11-12 09:00         39\n",
       "2879  2009-11-16 12:00         26\n",
       "2880  2009-11-28 18:00         20\n",
       "2881  2009-11-13 00:00          4"
      ]
     },
     "execution_count": 7,
     "metadata": {},
     "output_type": "execute_result"
    }
   ],
   "source": [
    "print(df_observation.shape)\n",
    "print(df_prediction.shape)\n",
    "df_prediction"
   ]
  },
  {
   "cell_type": "code",
   "execution_count": 8,
   "metadata": {},
   "outputs": [
    {
     "name": "stderr",
     "output_type": "stream",
     "text": [
      "/home/slimbook/miniconda3/envs/ironhack_env/lib/python3.7/site-packages/ipykernel_launcher.py:1: SettingWithCopyWarning: \n",
      "A value is trying to be set on a copy of a slice from a DataFrame.\n",
      "Try using .loc[row_indexer,col_indexer] = value instead\n",
      "\n",
      "See the caveats in the documentation: http://pandas.pydata.org/pandas-docs/stable/indexing.html#indexing-view-versus-copy\n",
      "  \"\"\"Entry point for launching an IPython kernel.\n",
      "/home/slimbook/miniconda3/envs/ironhack_env/lib/python3.7/site-packages/ipykernel_launcher.py:2: SettingWithCopyWarning: \n",
      "A value is trying to be set on a copy of a slice from a DataFrame.\n",
      "Try using .loc[row_indexer,col_indexer] = value instead\n",
      "\n",
      "See the caveats in the documentation: http://pandas.pydata.org/pandas-docs/stable/indexing.html#indexing-view-versus-copy\n",
      "  \n"
     ]
    }
   ],
   "source": [
    "df_observation['dates'] = pd.to_datetime(df_observation['observaciones'], errors='coerce', format='%Y-%m-%d %H:%M')\n",
    "df_prediction['dates'] = pd.to_datetime(df_prediction['observaciones'], errors='coerce', format='%Y-%m-%d %H:%M')"
   ]
  },
  {
   "cell_type": "code",
   "execution_count": 9,
   "metadata": {},
   "outputs": [
    {
     "data": {
      "text/plain": [
       "Index(['observaciones', 'Unnamed: 1', 'dates'], dtype='object')"
      ]
     },
     "execution_count": 9,
     "metadata": {},
     "output_type": "execute_result"
    }
   ],
   "source": [
    "df_observation.columns"
   ]
  },
  {
   "cell_type": "code",
   "execution_count": 10,
   "metadata": {},
   "outputs": [],
   "source": [
    "df_observation.set_index(df_observation['dates'], inplace = True)\n",
    "df_prediction.set_index(df_prediction['dates'], inplace = True)\n",
    "df_observation = df_observation[[x for x in df_observation.columns if x != 'observaciones' and x != 'dates']]\n",
    "df_predict = df_prediction[[x for x in df_observation.columns if x != 'observaciones' and x != 'dates']]"
   ]
  },
  {
   "cell_type": "code",
   "execution_count": 11,
   "metadata": {},
   "outputs": [
    {
     "data": {
      "text/html": [
       "<div>\n",
       "<style scoped>\n",
       "    .dataframe tbody tr th:only-of-type {\n",
       "        vertical-align: middle;\n",
       "    }\n",
       "\n",
       "    .dataframe tbody tr th {\n",
       "        vertical-align: top;\n",
       "    }\n",
       "\n",
       "    .dataframe thead th {\n",
       "        text-align: right;\n",
       "    }\n",
       "</style>\n",
       "<table border=\"1\" class=\"dataframe\">\n",
       "  <thead>\n",
       "    <tr style=\"text-align: right;\">\n",
       "      <th></th>\n",
       "      <th>Unnamed: 1</th>\n",
       "    </tr>\n",
       "    <tr>\n",
       "      <th>dates</th>\n",
       "      <th></th>\n",
       "    </tr>\n",
       "  </thead>\n",
       "  <tbody>\n",
       "    <tr>\n",
       "      <th>2008-01-02 15:00:00</th>\n",
       "      <td>512 36</td>\n",
       "    </tr>\n",
       "    <tr>\n",
       "      <th>2008-01-02 18:00:00</th>\n",
       "      <td>726 27</td>\n",
       "    </tr>\n",
       "    <tr>\n",
       "      <th>2008-01-02 21:00:00</th>\n",
       "      <td>730 23</td>\n",
       "    </tr>\n",
       "    <tr>\n",
       "      <th>2008-01-03 00:00:00</th>\n",
       "      <td>844 38</td>\n",
       "    </tr>\n",
       "    <tr>\n",
       "      <th>2008-01-03 03:00:00</th>\n",
       "      <td>948 46</td>\n",
       "    </tr>\n",
       "  </tbody>\n",
       "</table>\n",
       "</div>"
      ],
      "text/plain": [
       "                    Unnamed: 1\n",
       "dates                         \n",
       "2008-01-02 15:00:00     512 36\n",
       "2008-01-02 18:00:00     726 27\n",
       "2008-01-02 21:00:00     730 23\n",
       "2008-01-03 00:00:00     844 38\n",
       "2008-01-03 03:00:00     948 46"
      ]
     },
     "metadata": {},
     "output_type": "display_data"
    }
   ],
   "source": [
    "display(df_observation.head())"
   ]
  },
  {
   "cell_type": "code",
   "execution_count": 12,
   "metadata": {},
   "outputs": [],
   "source": [
    "df_observation[['production','wind_mod']] = df_observation['Unnamed: 1'].str.split(\" \",expand=True)\n",
    "df_observation = df_observation[[x for x in df_observation.columns if x != 'Unnamed: 1']]\n",
    "df_predict = df_predict.rename(columns={'Unnamed: 1': 'wind_mod'})"
   ]
  },
  {
   "cell_type": "code",
   "execution_count": 13,
   "metadata": {},
   "outputs": [
    {
     "data": {
      "text/html": [
       "<div>\n",
       "<style scoped>\n",
       "    .dataframe tbody tr th:only-of-type {\n",
       "        vertical-align: middle;\n",
       "    }\n",
       "\n",
       "    .dataframe tbody tr th {\n",
       "        vertical-align: top;\n",
       "    }\n",
       "\n",
       "    .dataframe thead th {\n",
       "        text-align: right;\n",
       "    }\n",
       "</style>\n",
       "<table border=\"1\" class=\"dataframe\">\n",
       "  <thead>\n",
       "    <tr style=\"text-align: right;\">\n",
       "      <th></th>\n",
       "      <th>production</th>\n",
       "      <th>wind_mod</th>\n",
       "    </tr>\n",
       "    <tr>\n",
       "      <th>dates</th>\n",
       "      <th></th>\n",
       "      <th></th>\n",
       "    </tr>\n",
       "  </thead>\n",
       "  <tbody>\n",
       "    <tr>\n",
       "      <th>2008-01-02 15:00:00</th>\n",
       "      <td>512</td>\n",
       "      <td>36</td>\n",
       "    </tr>\n",
       "    <tr>\n",
       "      <th>2008-01-02 18:00:00</th>\n",
       "      <td>726</td>\n",
       "      <td>27</td>\n",
       "    </tr>\n",
       "    <tr>\n",
       "      <th>2008-01-02 21:00:00</th>\n",
       "      <td>730</td>\n",
       "      <td>23</td>\n",
       "    </tr>\n",
       "    <tr>\n",
       "      <th>2008-01-03 00:00:00</th>\n",
       "      <td>844</td>\n",
       "      <td>38</td>\n",
       "    </tr>\n",
       "    <tr>\n",
       "      <th>2008-01-03 03:00:00</th>\n",
       "      <td>948</td>\n",
       "      <td>46</td>\n",
       "    </tr>\n",
       "  </tbody>\n",
       "</table>\n",
       "</div>"
      ],
      "text/plain": [
       "                    production wind_mod\n",
       "dates                                  \n",
       "2008-01-02 15:00:00        512       36\n",
       "2008-01-02 18:00:00        726       27\n",
       "2008-01-02 21:00:00        730       23\n",
       "2008-01-03 00:00:00        844       38\n",
       "2008-01-03 03:00:00        948       46"
      ]
     },
     "execution_count": 13,
     "metadata": {},
     "output_type": "execute_result"
    }
   ],
   "source": [
    "df_observation.head()"
   ]
  },
  {
   "cell_type": "code",
   "execution_count": 23,
   "metadata": {},
   "outputs": [],
   "source": [
    "#################\n",
    "#################\n",
    "#    ERRORES\n",
    "\n",
    "import math\n",
    "import numpy as np \n",
    "  \n",
    "# Given values \n",
    "Y_true = [1,1,2,2,4]  # Y_true = Y (original values) \n",
    "  \n",
    "# Calculated values \n",
    "Y_pred = [0.6,1.29,1.99,2.69,3.4]  # Y_pred = Y' \n",
    "  \n",
    "# Mean Squared Error \n",
    "MSE = np.square(np.subtract(Y_true,Y_pred)).mean() \n",
    "\n",
    "def _error(actual: np.ndarray, predicted: np.ndarray):\n",
    "    \"\"\" Simple error \"\"\"\n",
    "    return actual - predicted\n",
    "\n",
    "def mse(actual: np.ndarray, predicted: np.ndarray):\n",
    "    \"\"\" Mean Squared Error \"\"\"\n",
    "    return np.mean(np.square(_error(actual, predicted)))\n",
    "\n",
    "\n",
    "def rmse(actual: np.ndarray, predicted: np.ndarray):\n",
    "    \"\"\" Root Mean Squared Error \"\"\"\n",
    "    return np.sqrt(mse(actual, predicted))"
   ]
  },
  {
   "cell_type": "code",
   "execution_count": 15,
   "metadata": {},
   "outputs": [],
   "source": [
    "### Valor k = range(1/2 - 3/2)\n",
    "### Valor L = max(wind_mod)\n",
    "### Valor x0 = range(0 - max(wind_mod))"
   ]
  },
  {
   "cell_type": "code",
   "execution_count": 16,
   "metadata": {},
   "outputs": [
    {
     "name": "stdout",
     "output_type": "stream",
     "text": [
      "99\n"
     ]
    }
   ],
   "source": [
    "L = int(df_observation['wind_mod'].max())\n",
    "print(L)"
   ]
  },
  {
   "cell_type": "code",
   "execution_count": 17,
   "metadata": {},
   "outputs": [
    {
     "name": "stdout",
     "output_type": "stream",
     "text": [
      "[0.5, 0.55, 0.6000000000000001, 0.6500000000000001, 0.7000000000000002, 0.7500000000000002, 0.8000000000000003, 0.8500000000000003, 0.9000000000000004, 0.9500000000000004, 1.0000000000000004, 1.0500000000000005, 1.1000000000000005, 1.1500000000000006, 1.2000000000000006, 1.2500000000000007, 1.3000000000000007, 1.3500000000000008, 1.4000000000000008, 1.4500000000000008]\n"
     ]
    }
   ],
   "source": [
    "k = list(np.arange(0.5,1.5,0.05))\n",
    "print(k)"
   ]
  },
  {
   "cell_type": "code",
   "execution_count": 18,
   "metadata": {},
   "outputs": [
    {
     "name": "stdout",
     "output_type": "stream",
     "text": [
      "[0.0, 5.2105263157894735, 10.421052631578947, 15.631578947368421, 20.842105263157894, 26.052631578947366, 31.263157894736842, 36.473684210526315, 41.68421052631579, 46.89473684210526, 52.10526315789473, 57.315789473684205, 62.526315789473685, 67.73684210526315, 72.94736842105263, 78.1578947368421, 83.36842105263158, 88.57894736842105, 93.78947368421052, 99.0]\n"
     ]
    }
   ],
   "source": [
    "x0 = list(np.linspace(start=0, stop=L, num=20))\n",
    "print(x0)"
   ]
  },
  {
   "cell_type": "code",
   "execution_count": 19,
   "metadata": {},
   "outputs": [
    {
     "name": "stdout",
     "output_type": "stream",
     "text": [
      "2874\n"
     ]
    },
    {
     "data": {
      "text/plain": [
       "136"
      ]
     },
     "execution_count": 19,
     "metadata": {},
     "output_type": "execute_result"
    }
   ],
   "source": [
    "wind_mod = list(map(int, list(df_observation['wind_mod'])))\n",
    "print(len(wind_mod))\n",
    "max(wind_mod)\n"
   ]
  },
  {
   "cell_type": "code",
   "execution_count": 20,
   "metadata": {},
   "outputs": [
    {
     "data": {
      "text/plain": [
       "float"
      ]
     },
     "execution_count": 20,
     "metadata": {},
     "output_type": "execute_result"
    }
   ],
   "source": [
    "lst = []\n",
    "for x in wind_mod:   \n",
    "    for i in k:\n",
    "        f = x * i\n",
    "        lst.append(f)\n",
    "        #lst.append(lista)\n",
    "\n",
    "k1 = ([int(x*i) for x in wind_mod for i in k])\n",
    "x2 = ([int(x*z) for x in wind_mod for z in x0])\n",
    "type(k1[0])\n",
    "\n",
    "k = (np.arange(0.5,1.5,0.05).astype(float)).tolist()\n",
    "type(k[0])"
   ]
  },
  {
   "cell_type": "code",
   "execution_count": 35,
   "metadata": {},
   "outputs": [
    {
     "name": "stdout",
     "output_type": "stream",
     "text": [
      "<class 'float'>\n",
      "<class 'float'>\n",
      "20\n",
      "<class 'float'>\n"
     ]
    }
   ],
   "source": [
    "wind_mod = list(map(int, list(df_observation['wind_mod'])))\n",
    "L = float(max(wind_mod))\n",
    "k = (np.arange(0.5,1.5,0.05)).tolist()\n",
    "x0 = (np.linspace(start=0, stop=L, num=20)).tolist()\n",
    "print(type(L))\n",
    "print(type(k[0]))\n",
    "print(len(k))\n",
    "print(type(x0[0]))"
   ]
  },
  {
   "cell_type": "code",
   "execution_count": 36,
   "metadata": {},
   "outputs": [
    {
     "data": {
      "text/plain": [
       "[136.0]"
      ]
     },
     "execution_count": 36,
     "metadata": {},
     "output_type": "execute_result"
    }
   ],
   "source": [
    "([L//(1-math.exp(-(k[9])*((wind_mod[90])-(x0[0]))))])"
   ]
  },
  {
   "cell_type": "code",
   "execution_count": 54,
   "metadata": {},
   "outputs": [],
   "source": [
    "def _error(actual: np.ndarray, predicted: np.ndarray):\n",
    "    \"\"\" Simple error \"\"\"\n",
    "    return actual - predicted\n",
    "\n",
    "def mse(actual: np.ndarray, predicted: np.ndarray):\n",
    "    \"\"\" Mean Squared Error \"\"\"\n",
    "    return np.mean(np.square(_error(actual, predicted)))\n",
    "\n",
    "\n",
    "def rmse(actual: np.ndarray, predicted: np.ndarray):\n",
    "    \"\"\" Root Mean Squared Error \"\"\"\n",
    "    return np.sqrt(mse(actual, predicted))"
   ]
  },
  {
   "cell_type": "code",
   "execution_count": 76,
   "metadata": {},
   "outputs": [
    {
     "name": "stdout",
     "output_type": "stream",
     "text": [
      "Undefined\n",
      "Undefined\n",
      "Undefined\n",
      "Undefined\n",
      "Undefined\n",
      "Undefined\n",
      "Undefined\n",
      "Undefined\n",
      "Undefined\n",
      "Undefined\n",
      "Undefined\n",
      "Undefined\n",
      "Undefined\n",
      "Undefined\n",
      "Undefined\n",
      "Undefined\n",
      "Undefined\n",
      "Undefined\n",
      "Undefined\n",
      "Undefined\n"
     ]
    }
   ],
   "source": [
    "wind_mod_pred = list(map(int, list(df_predict['wind_mod'])))\n",
    "result = []\n",
    "parameters = []\n",
    "mse_err = []\n",
    "rmse_err = []\n",
    "for x in range(len(wind_mod)):\n",
    "    for i in range(len(k)):\n",
    "        for s in range(len(x0)):\n",
    "            \n",
    "            try:\n",
    "                func = [L//(1-math.exp(-((k[i]))*((wind_mod[x])-(x0[s]))))]\n",
    "                params = [k[i], x0[s]]\n",
    "                \n",
    "                result.append(func)\n",
    "                parameters.append(params)\n",
    "                \n",
    "                actual_array = np.asarray(func, dtype=np.float32)\n",
    "                predicted_array = np.asarray(wind_mod_pred, dtype=np.float32)\n",
    "                \n",
    "                mse_err.append(mse(actual_array, predicted_array))\n",
    "                rmse_err.append(rmse(actual_array, predicted_array))\n",
    "                \n",
    "            except ZeroDivisionError:\n",
    "                continue"
   ]
  },
  {
   "cell_type": "code",
   "execution_count": 79,
   "metadata": {
    "scrolled": true
   },
   "outputs": [
    {
     "name": "stdout",
     "output_type": "stream",
     "text": [
      "<class 'numpy.float32'>\n",
      "48.90954\n",
      "7\n",
      "[0.5, 50.10526315789474]\n",
      "[-1.0]\n",
      "[-1.0]\n",
      "59\n"
     ]
    }
   ],
   "source": [
    "print(type(rmse_err[0]))\n",
    "print(np.amin(rmse_err))\n",
    "print(np.argmin(rmse_err))\n",
    "print(parameters[(int(np.argmin(rmse_err)))])\n",
    "print(result[(int(np.argmin(rmse_err)))])\n",
    "print(result[(int(np.argmin(mse_err)))])\n",
    "print(wind_mod[(int(np.argmin(rmse_err)))])"
   ]
  },
  {
   "cell_type": "code",
   "execution_count": 51,
   "metadata": {},
   "outputs": [],
   "source": [
    "wind_mod_pred = list(map(int, list(df_predict['wind_mod'])))"
   ]
  },
  {
   "cell_type": "code",
   "execution_count": 58,
   "metadata": {},
   "outputs": [
    {
     "name": "stdout",
     "output_type": "stream",
     "text": [
      "12781.344\n",
      "113.0546\n"
     ]
    }
   ],
   "source": [
    "test_1 = np.asarray(wind_mod_pred, dtype=np.float32)\n",
    "test_2 = np.asarray(result, dtype=np.float32)\n",
    "print(mse(test_2, test_1))\n",
    "print(rmse(test_2, test_1))\n",
    "\n",
    "#mse_err.append(mse(result, wind_mod_pred))\n",
    "#rmse_err.append(rmse())"
   ]
  },
  {
   "cell_type": "code",
   "execution_count": 50,
   "metadata": {},
   "outputs": [
    {
     "data": {
      "text/plain": [
       "1149580"
      ]
     },
     "execution_count": 50,
     "metadata": {},
     "output_type": "execute_result"
    }
   ],
   "source": [
    "len(parameters)"
   ]
  },
  {
   "cell_type": "code",
   "execution_count": null,
   "metadata": {},
   "outputs": [],
   "source": []
  }
 ],
 "metadata": {
  "kernelspec": {
   "display_name": "Python 3",
   "language": "python",
   "name": "python3"
  },
  "language_info": {
   "codemirror_mode": {
    "name": "ipython",
    "version": 3
   },
   "file_extension": ".py",
   "mimetype": "text/x-python",
   "name": "python",
   "nbconvert_exporter": "python",
   "pygments_lexer": "ipython3",
   "version": "3.7.3"
  }
 },
 "nbformat": 4,
 "nbformat_minor": 2
}
